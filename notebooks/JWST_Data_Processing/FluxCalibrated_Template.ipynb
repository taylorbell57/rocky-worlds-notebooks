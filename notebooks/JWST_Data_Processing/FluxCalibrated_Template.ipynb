{
 "cells": [
  {
   "cell_type": "markdown",
   "id": "555043a5-4233-43f3-989f-06c3bf0800b9",
   "metadata": {},
   "source": [
    "<img style=\"float: center;\" src='https://github.com/spacetelescope/jwst-pipeline-notebooks/raw/main/_static/stsci_header.png' alt=\"stsci_logo\" width=\"900px\"/>"
   ]
  },
  {
   "cell_type": "code",
   "execution_count": null,
   "id": "6b3e765a-4816-4d70-ac05-fa226a16b8df",
   "metadata": {},
   "outputs": [],
   "source": [
    "%matplotlib notebook"
   ]
  },
  {
   "cell_type": "markdown",
   "id": "ab56fe55-f307-49be-b3ea-034e8d283483",
   "metadata": {},
   "source": [
    "# RW-DDT Flux-Calibrated Analysis Template Notebook\n",
    "\n",
    "**Authors**: Taylor James Bell (ESA/AURA for STScI)<br>\n",
    "**Last Updated**: June 05, 2025<br>\n",
    "**jwst Pipeline Version**: 1.18.0 (Build 11.3)<br>\n",
    "**Eureka! Pipeline Version**: https://github.com/kevin218/Eureka/tree/tjb_rwddt\n",
    "\n",
    "Note that additional contextual information can be found in `README_Fluxcal.md`\n",
    "\n",
    "**Purpose**:<br/>\n",
    "\n",
    "It should not be necessary to edit any cells other than in the [1. Define your eventlabel and top directory](#1.-Define-your-eventlabel-and-top-directory) section and the [4.1 Setting up the Stage 4cal ECF](#4.1-Setting-up-the-Stage-4cal-ECF) subsection unless you want to manually explore/optimize different data processing steps.\n",
    "\n",
    "The methods of this notebook were based on the findings of [Gordon+2025](https://iopscience.iop.org/article/10.3847/1538-3881/ad8cd4)\n",
    "\n",
    "**Data**:<br/>\n",
    "This notebook assumes the Stage 1 rateints files have already been downloaded from MAST using the `rocky-worlds-utils/download_JWST.py` script.\n",
    "\n",
    "**JWST pipeline version and CRDS context**:<br/>\n",
    "This notebook was written for the calibration pipeline version given above and uses the context associated with this version of the JWST Calibration Pipeline. Information about this and other contexts can be found in the JWST Calibration Reference Data System (CRDS) [server]((https://jwst-crds.stsci.edu/)). If you use different pipeline\n",
    "versions, please refer to the table [here](https://jwst-crds.stsci.edu/display_build_contexts/) to determine what context to use. To learn more about the differences for the pipeline, read the relevant [documentation](https://jwst-docs.stsci.edu/jwst-science-calibration-pipeline/jwst-operations-pipeline-build-information)"
   ]
  },
  {
   "cell_type": "markdown",
   "id": "b9f3fb0b-ad6a-4d86-a6e4-22cb991b9d4d",
   "metadata": {},
   "source": [
    "## Table of Contents\n",
    "- [0. Importing the required components](#0.-Importing-the-required-components)\n",
    "- [1. Define your eventlabel and top directory](#1.-Define-your-eventlabel-and-top-directory)\n",
    "- [2. Stage 2](#2.-Stage-2)\n",
    "- [3. Stage 3 - Pixels to Lightcurve](#3.-Stage-3---Pixels-to-Lightcurve)\n",
    "- [4. Stage 4cal - Flux Calibration](#4.-Stage-4cal---Flux-Calibration)\n",
    "- [5. Logging in-eclipse absolutely-calibrated stellar flux level](#5.-Logging-in-eclipse-absolutely-calibrated-stellar-flux-level)\n",
    "- [6. Sanity-checking approximate eclipse depth from absolutely-calibrated data](#6.-Sanity-checking-approximate-eclipse-depth-from-absolutely-calibrated-data)"
   ]
  },
  {
   "cell_type": "markdown",
   "id": "5e25729f-f939-44c4-af59-0333f37b1190",
   "metadata": {},
   "source": [
    "## 0. Importing the required components\n",
    "\n",
    "There should be no need to change any of this"
   ]
  },
  {
   "cell_type": "code",
   "execution_count": null,
   "id": "47179898-941f-409b-b70a-10f483cff1ef",
   "metadata": {},
   "outputs": [],
   "source": [
    "# Importing a bunch of Eureka! components\n",
    "import eureka.lib.plots\n",
    "import eureka.S1_detector_processing.s1_process as s1\n",
    "import eureka.S2_calibrations.s2_calibrate as s2\n",
    "import eureka.S3_data_reduction.s3_reduce as s3\n",
    "import eureka.S4cal_StellarSpectra.s4cal_StellarSpec as s4cal\n",
    "\n",
    "# Set up some parameters to make plots look nicer. You can set usetex=True if you have LaTeX installed\n",
    "eureka.lib.plots.set_rc(style='eureka', usetex=False, filetype='.png')\n",
    "\n",
    "# Some imports to interact with outputs within the Jupyter notebook\n",
    "from IPython.display import Image, display\n",
    "from glob import glob\n",
    "import numpy as np\n",
    "import matplotlib.pyplot as plt\n",
    "plt.ioff()"
   ]
  },
  {
   "cell_type": "markdown",
   "id": "fc3e72ca-96d3-4b2f-935e-fe68b026ab31",
   "metadata": {},
   "source": [
    "## 1. Define your eventlabel and top directory\n",
    "\n",
    "Next, we need to choose a short, meaningful label (without spaces) that describes the data we're currently working on. This eventlabel will determine will give nicknames to all your output folders and files.\n",
    "\n",
    "We also need to tell the notebook where all our data is going to be stored"
   ]
  },
  {
   "cell_type": "code",
   "execution_count": null,
   "id": "93827754-4586-484c-ad6f-39b51863bc4e",
   "metadata": {},
   "outputs": [],
   "source": [
    "# Enter in a custom eventlabel that will be used to distinguish the outputs\n",
    "# from all subsequent processing\n",
    "eventlabel = '' ## <- ENTER YOUR LABEL HERE\n",
    "\n",
    "# Specify here the top directory that will contain all ingested and output files\n",
    "topdir = '' ## <- ENTER YOUR TOPDIR HERE"
   ]
  },
  {
   "cell_type": "markdown",
   "id": "9c92b4f6-748b-4845-86f1-2b47033edcd4",
   "metadata": {},
   "source": [
    "## 2. Stage 2\n",
    "\n",
    "### 2.1 Setting up the Stage 2 ECF\n",
    "\n",
    "For flux-calibrated analyses, there is no need to change any of the Stage 2 settings beyond what is provided in the template, so we'll just read those defaults in."
   ]
  },
  {
   "cell_type": "code",
   "execution_count": null,
   "id": "bdad2700-1fdc-4ab2-8606-0032f61f469c",
   "metadata": {},
   "outputs": [],
   "source": [
    "s2_ecf_contents = f\"\"\"# Eureka! Control File for Stage 2: Data Reduction\n",
    "\n",
    "# Stage 2 Documentation: https://eurekadocs.readthedocs.io/en/latest/ecf.html#stage-2\n",
    "\n",
    "pmap\t\t\t\t1364\n",
    "\n",
    "skip_flat_field     False\n",
    "skip_photom         False\n",
    "\n",
    "# Project directory\n",
    "topdir              {topdir}\n",
    "\n",
    "# Directories relative to topdir\n",
    "inputdir            Analysis_A/Quicklook/MAST_Stage1\n",
    "outputdir           Analysis_A/Fluxcal/Stage2\n",
    "\"\"\"\n",
    "\n",
    "# This will save the ECF as a file that the next cell can read-in\n",
    "with open(f'./S2_{eventlabel}.ecf', 'w') as f:\n",
    "    f.write(s2_ecf_contents)"
   ]
  },
  {
   "cell_type": "markdown",
   "id": "c84a6869-d514-4549-ac84-5ddbe26dde40",
   "metadata": {},
   "source": [
    "### 2.2 Running Stage 2\n",
    "\n",
    "Here we run the Eureka! Stage 2 pipeline using the settings we defined above. This should take <1 minute, but that will depend on the data volume of the observation you're working on and the specifics of your CPU\n",
    "\n",
    "If you previously ran Stage 2 and want to re-use those outputs, you can just comment-out the following line"
   ]
  },
  {
   "cell_type": "code",
   "execution_count": null,
   "id": "348819af-e2ba-491a-becb-9c2926fd06a0",
   "metadata": {
    "scrolled": true
   },
   "outputs": [],
   "source": [
    "s2_meta = s2.calibrateJWST(eventlabel)"
   ]
  },
  {
   "cell_type": "markdown",
   "id": "f55a00ed-252c-4edf-b4ba-e1929b81c0e4",
   "metadata": {},
   "source": [
    "## 3. Stage 3 - Pixels to Lightcurve\n",
    "\n",
    "### 3.1 Setting up the Stage 3 ECF\n",
    "\n",
    "For flux-calibrated analyses, there is no need to change any of the Stage 3 settings beyond what is provided in the template, so we'll just read those defaults in."
   ]
  },
  {
   "cell_type": "code",
   "execution_count": null,
   "id": "b27ee5a9-140d-444a-b336-9320fc196e4c",
   "metadata": {},
   "outputs": [],
   "source": [
    "s3_ecf_contents = f\"\"\"# Eureka! Control File for Stage 3: Data Reduction\n",
    "\n",
    "# Stage 3 Documentation: https://eurekadocs.readthedocs.io/en/latest/ecf.html#stage-3\n",
    "\n",
    "ncpu               18\n",
    "max_memory         1.5\n",
    "\n",
    "pmap               1364\n",
    "\n",
    "calibrated_spectra True\n",
    "\n",
    "# Background parameters\n",
    "ff_outlier         True        # Set False to use only background region (recommended for deep transits)\n",
    "                               # Set True to use full frame (works well for shallow transits/eclipses)\n",
    "bg_thresh          [5,5]\n",
    "interp_method      linear      # Interpolate bad pixels. Options: None (if no interpolation should be performed), linear, nearest, cubic\n",
    "\n",
    "# Centroiding parameters\n",
    "centroid_method    mgmc        # Method used for centroiding. Options: mgmc, fgc\n",
    "ctr_guess\t\t   fits    \t   # Initial guess of centroid position. If None, will first perform centroiding on whole frame (can sometimes fail)\n",
    "\n",
    "# Photometric extraction parameters\n",
    "phot_method        photutils   # photutils (aperture photometry using photutils), poet (aperture photometry using code from POET), or optimal (for optimal photometric extraction)\n",
    "aperture_edge      exact       # center (pixel is included only if its center lies within the aperture), or exact (pixel is weighted by the fractional area that lies within the aperture)\n",
    "photap             5.69        # Size of photometry aperture radius in pixels\n",
    "skyin              8.63        # Inner sky annulus edge, in pixels\n",
    "skywidth           2.82        # Width of the sky annulus, in pixels\n",
    "\n",
    "# Diagnostics\n",
    "nplots             3\n",
    "\n",
    "# Project directory\n",
    "topdir             {topdir}\n",
    "\n",
    "# Directories relative to topdir\n",
    "inputdir           Analysis_A/Fluxcal/Stage2\n",
    "outputdir          Analysis_A/Fluxcal/Stage3\n",
    "\"\"\"\n",
    "\n",
    "# This will save the ECF as a file that the next cell can read-in\n",
    "with open(f'./S3_{eventlabel}.ecf', 'w') as f:\n",
    "    f.write(s3_ecf_contents)"
   ]
  },
  {
   "cell_type": "markdown",
   "id": "b718393c-87fe-44fa-ab82-c80cd3d2da6f",
   "metadata": {},
   "source": [
    "### 3.2 Running Stage 3\n",
    "\n",
    "Here we run the Eureka! Stage 3 pipeline using the settings we defined above. This should take <1 minute, but that will depend on the data volume of the observation you're working on and the specifics of your CPU\n",
    "\n",
    "If you previously ran Stage 3 and want to re-use those outputs, you can just comment-out the following line"
   ]
  },
  {
   "cell_type": "code",
   "execution_count": null,
   "id": "1fc45e30-c515-424c-a9c4-c1d2575379fa",
   "metadata": {},
   "outputs": [],
   "source": [
    "spec, s3_meta = s3.reduce(eventlabel)"
   ]
  },
  {
   "cell_type": "markdown",
   "id": "bac275a2-4534-49e5-b254-8f921a2fe348",
   "metadata": {},
   "source": [
    "### 3.3 Sanity checking the Stage 3 output figures\n",
    "\n",
    "Let's look at the plot outputs from Stage 3 to make sure they look reasonable (similar to the checks from the quicklook notebook)"
   ]
  },
  {
   "cell_type": "code",
   "execution_count": null,
   "id": "0612dbb9-28a4-4295-ac78-b2a389c53278",
   "metadata": {},
   "outputs": [],
   "source": [
    "figures = np.sort(glob(f'{s3_meta.outputdir}/figs/*'))\n",
    "for figure in figures:\n",
    "    print(figure)\n",
    "    display(Image(filename=figure, embed=True, width=700))"
   ]
  },
  {
   "cell_type": "markdown",
   "id": "9766b4ea-a792-41ee-b22b-36b301a120dd",
   "metadata": {},
   "source": [
    "## 4. Stage 4cal - Flux Calibration\n",
    "\n",
    "In Stage 4cal, we will work on removing time-series outliers, applying a finite aperture correction, and getting absolutely-calibrated stellar flux levels from the in-eclipse data\n",
    "\n",
    "### 4.1 Setting up the Stage 4cal ECF\n",
    "\n",
    "You will need to set several settings here that are specific to your planetary system. Specifically, you will need to set:\n",
    "\n",
    "* `t0`; **mid-eclipse time** in units of BMJD_TDB. Copy this value from the results of your best-fit from your deep-dive analysis.\n",
    "* `rprs`; planet-star radius ratio. Copy this value from your EPF file.\n",
    "* `period`; orbital period (in days). Copy this value from your EPF file.\n",
    "* `inc`; orbital inclination (in degrees). Copy this value from your EPF file.\n",
    "* `ars`; semi-major axis to stellar radius ratio. Copy this value from your EPF file.\n",
    "* `base_dur`; out-of-eclipse baseline duration (in days) to use when computing the baseline flux. This value isn't super important for eclipse observations, but we will use it later as a sanity check. Make it as large as reasonable to get a lower error, but keep it small enough to avoid the baseline curvature at the start of the observations. It's okay if this takes some trial and error. A value of 0.03 may suffice"
   ]
  },
  {
   "cell_type": "code",
   "execution_count": null,
   "id": "2fec49be-a784-4b70-b6eb-1eb8808face6",
   "metadata": {},
   "outputs": [],
   "source": [
    "s4_ecf_contents = f\"\"\"# Eureka! Control File for Stage 4cal: Calibrated Stellar Spectra\n",
    "\n",
    "# Stage 4cal Documentation: https://eurekadocs.readthedocs.io/en/latest/ecf.html#stage-4cal\n",
    "\n",
    "# Transit/Eclipse time\n",
    "t0              ## <- ENTER YOUR VALUE HERE; Time of mid-eclipse (in BMJD_TDB)\n",
    "\n",
    "# Orbital parameters\n",
    "rprs            ## <- ENTER YOUR VALUE HERE; Planet-star radius ratio\n",
    "period          ## <- ENTER YOUR VALUE HERE; Orbital period (in Days)\n",
    "inc             ## <- ENTER YOUR VALUE HERE; Orbital inclination (in degrees)\n",
    "ars             ## <- ENTER YOUR VALUE HERE; Semi-major axis to stellar radius ratio\n",
    "\n",
    "# Light curve to be used before t1 and after t4 for the baseline flux,\n",
    "# which includes flux from (t1 - base_dur) to t1 and t4 to (t4 + base_dur).\n",
    "base_dur        0.03  ## <- UPDATE IF NEEDED; Desired out-of-eclipse baseline duration (units of days)\n",
    "\n",
    "# Correction for extrapolating finite aperture to infinite aperture\n",
    "apcorr          1.497  ## <- DO NOT TOUCH (Value based on Gordon+2025)\n",
    "\n",
    "# Outlier detection\n",
    "sigma_thresh    [4,4,4]  # Three rounds of 4-sigma clipping ([4,4,4])\n",
    "\n",
    "# Diagnostics\n",
    "nbin_plot       100  # The number of time bins that should be used for figure 4202\n",
    "hide_plots      True  # If True, plots will automatically be closed rather than popping up\n",
    "\n",
    "# Project directory\n",
    "topdir          {topdir}\n",
    "\n",
    "# Directories relative to topdir\n",
    "inputdir        Analysis_A/Fluxcal/Stage3\n",
    "outputdir       Analysis_A/Fluxcal/Stage4\n",
    "\"\"\"\n",
    "\n",
    "# This will save the ECF as a file that the next cell can read-in\n",
    "with open(f'./S4cal_{eventlabel}.ecf', 'w') as f:\n",
    "    f.write(s4_ecf_contents)"
   ]
  },
  {
   "cell_type": "markdown",
   "id": "c2b1646d-ed7a-4a0d-8e8f-0c5df9896669",
   "metadata": {},
   "source": [
    "### 4.2 Running Stage 4cal\n",
    "\n",
    "Here we run the Eureka! Stage 4cal pipeline using the settings we defined above. This should take << 1 minute."
   ]
  },
  {
   "cell_type": "code",
   "execution_count": null,
   "id": "db79cd41-619c-4422-9533-db2b9dfe7de9",
   "metadata": {},
   "outputs": [],
   "source": [
    "s4cal_meta, spec, ds = s4cal.medianCalSpec(eventlabel)"
   ]
  },
  {
   "cell_type": "markdown",
   "id": "27f3ac57-40da-41a6-9406-f072df87c6a1",
   "metadata": {},
   "source": [
    "### 4.2 Sanity checking the Stage 4cal output figures\n",
    "\n",
    "Let's look at the regions used for in-eclipse and baseline flux measurements to make sure they look reasonable"
   ]
  },
  {
   "cell_type": "code",
   "execution_count": null,
   "id": "d3bc52c5-abd3-4180-b830-bfc54cb29dce",
   "metadata": {},
   "outputs": [],
   "source": [
    "figures = np.sort(glob(f'{s4cal_meta.outputdir}/figs/fig4202*'))\n",
    "for figure in figures:\n",
    "    display(Image(filename=figure, embed=True, width=700))"
   ]
  },
  {
   "cell_type": "markdown",
   "id": "ea4ee52b-6cb0-4491-ae78-65c374d44fdf",
   "metadata": {},
   "source": [
    "## 5. Logging in-eclipse absolutely-calibrated stellar flux level\n",
    "\n",
    "The below cell will also include the required error inflation from [Gordon+2025](https://iopscience.iop.org/article/10.3847/1538-3881/ad8cd4)"
   ]
  },
  {
   "cell_type": "code",
   "execution_count": null,
   "id": "dd975098-63bf-416a-a571-a8f968508c2d",
   "metadata": {},
   "outputs": [],
   "source": [
    "stellar_flux = ds.ecl_flux.data[0][0]\n",
    "# Inflate stellar flux uncertainty to account for calibration systematic uncertainty\n",
    "stellar_flux_err = np.sqrt(ds.ecl_ferr.data[0][0]**2 + (0.0048*ds.ecl_flux.data[0][0])**2 + (0.0045*ds.ecl_flux.data[0][0])**2)\n",
    "print(f'Measured Stellar Flux: {stellar_flux:.5f} ± {stellar_flux_err:.5f} mJy')"
   ]
  },
  {
   "cell_type": "markdown",
   "id": "13ba6d70-e5fe-413d-b788-8fe4fb77a480",
   "metadata": {},
   "source": [
    "## 6. Sanity-checking approximate eclipse depth from absolutely-calibrated data\n",
    "\n",
    "There will be some amount of discrepancy between this value and your best-fit result from your deep-dive analysis, but the estimated eclipse depth from here should at least be vageuly in agreement with the results of your deep-dive analysis"
   ]
  },
  {
   "cell_type": "code",
   "execution_count": null,
   "id": "01d865d3-5c23-4c3f-a405-3c4ce3c60644",
   "metadata": {},
   "outputs": [],
   "source": [
    "base_flux = ds.base_flux.data[0][0]\n",
    "ecl_depth = (base_flux/stellar_flux - 1)*1e6\n",
    "ecl_err = np.sqrt((ds.base_ferr.data[0][0]/stellar_flux)**2 + (base_flux*ds.ecl_ferr.data[0][0]/stellar_flux**2)**2)*1e6\n",
    "print(f'Approximate Eclipse Depth: {ecl_depth:.1f} ± {ecl_err:.1f} ppm')"
   ]
  }
 ],
 "metadata": {
  "kernelspec": {
   "display_name": "Python [conda env:eureka_rwddt]",
   "language": "python",
   "name": "conda-env-eureka_rwddt-py"
  },
  "language_info": {
   "codemirror_mode": {
    "name": "ipython",
    "version": 3
   },
   "file_extension": ".py",
   "mimetype": "text/x-python",
   "name": "python",
   "nbconvert_exporter": "python",
   "pygments_lexer": "ipython3",
   "version": "3.13.3"
  }
 },
 "nbformat": 4,
 "nbformat_minor": 5
}
