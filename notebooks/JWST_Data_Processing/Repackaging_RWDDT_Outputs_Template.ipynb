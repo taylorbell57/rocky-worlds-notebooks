{
 "cells": [
  {
   "cell_type": "code",
   "execution_count": null,
   "id": "fdae625e-cebe-49d7-868b-bd8ce79f26d9",
   "metadata": {},
   "outputs": [],
   "source": [
    "import os\n",
    "import eclipse_cat_builder as ecb"
   ]
  },
  {
   "cell_type": "markdown",
   "id": "bec44ccc-c432-4614-9c74-82da7479fa62",
   "metadata": {},
   "source": [
    "# Load in the specific outputs you're packaging"
   ]
  },
  {
   "cell_type": "code",
   "execution_count": null,
   "id": "bf24904d-eac4-4bdd-b138-5318b2fe220b",
   "metadata": {},
   "outputs": [],
   "source": [
    "stage2_fits = 'YourPathHere_calints.fits'\n",
    "stage3_specdata = 'YourPathHere_SpecData.h5'\n",
    "stage4_lcdata = 'YourPathHere_LCData.h5'\n",
    "stage4cal = 'YourPathHere_CalStellarSpec.h5'\n",
    "stage5_samples = 'YourPathHere_samples_ch0.h5'\n",
    "stage5_fit = 'YourPathHere_Table_Save_ch0.txt'\n",
    "\n",
    "eclipse = 1  # Update based on which eclipse observation this is\n",
    "STAR = 'YourStarHere'  # E.g., 'GJ 3929'\n",
    "PLANET = 'YourPlanetHere'  # E.g., 'GJ 3929 b'\n",
    "SRC_DOI = 'LeaveBlankForNow'\n",
    "\n",
    "HLSPVER = '0.1'  # Increment to '1.0' once approved and ready for publication\n",
    "\n",
    "outputDirectory = './saves/'  # Specify where you want the output files+figures to be written (folder must already exist)"
   ]
  },
  {
   "cell_type": "markdown",
   "id": "d703ae14-57ca-494e-bca1-aa6d98e4740a",
   "metadata": {},
   "source": [
    "# Preparing the High-Level Data Product"
   ]
  },
  {
   "cell_type": "code",
   "execution_count": null,
   "id": "0a5df6c2-1b0a-46b6-8a4b-dfd3a5c3cfe1",
   "metadata": {},
   "outputs": [],
   "source": [
    "# Build a single-eclipse xarray dataset\n",
    "ds = ecb.build_single_eclipse(stage2_fits, stage3_specdata, stage4cal, stage5_samples, eclipse, STAR, PLANET, SRC_DOI, HLSPVER)\n",
    "# Write the dataset as an HDF5 file\n",
    "h5output_fname = ecb.save_single_eclipse_hdf5(ds, outputDirectory)\n",
    "# Write the dataset as a FITS file for automated metadata ingest\n",
    "fitsoutput_fname = ecb.hdf5_single_to_fits(h5output_fname)\n",
    "\n",
    "# Print the dataset to the console so that we can double-check its contents\n",
    "ds"
   ]
  },
  {
   "cell_type": "markdown",
   "id": "957db423-7b20-41d1-8c2e-fcca27b87f0e",
   "metadata": {},
   "source": [
    "# Preparing the Intermediate-Level Data Product"
   ]
  },
  {
   "cell_type": "code",
   "execution_count": null,
   "id": "729a1490-acb9-4be9-959c-5c8ba75dd208",
   "metadata": {},
   "outputs": [],
   "source": [
    "# Build a single-eclipse xarray dataset\n",
    "ds2 = ecb.build_lightcurve_dataset(stage2_fits, stage3_specdata, stage4_lcdata, stage5_fit, eclipse, STAR, PLANET, SRC_DOI, HLSPVER)\n",
    "# Write the dataset as an HDF5 file\n",
    "h5output_fname = ecb.save_lightcurve_hdf5(ds2, outputDirectory)\n",
    "\n",
    "# Print the dataset to the console so that we can double-check its contents\n",
    "ds2"
   ]
  },
  {
   "cell_type": "markdown",
   "id": "bae5a75e-6429-4095-9251-ce5fc9dbbc20",
   "metadata": {},
   "source": [
    "# Making output figures for inclusion in the final report"
   ]
  },
  {
   "cell_type": "code",
   "execution_count": null,
   "id": "2ed83d93-1f63-426e-8acf-74003c44db58",
   "metadata": {},
   "outputs": [],
   "source": [
    "import numpy as np\n",
    "import matplotlib.pyplot as plt\n",
    "from astropy.stats import sigma_clip"
   ]
  },
  {
   "cell_type": "code",
   "execution_count": null,
   "id": "474be567-6ddb-4fb3-8ac1-7b45a96b1c24",
   "metadata": {},
   "outputs": [],
   "source": [
    "t_offset = int(np.floor(np.nanmin(ds2.time.values)))\n",
    "\n",
    "fig, axs = plt.subplot_mosaic('A;B;C', figsize=(10*0.8,7.5*0.8), sharex=True, gridspec_kw={'hspace':0.075})\n",
    "# Mask ≥40-sigma outliers for a cleaner figure\n",
    "axs['A'].errorbar(ds2.time-t_offset, sigma_clip(ds2.rawFlux[0], sigma=40), ds2.rawFluxErr[0], fmt='.', c='k', alpha=0.1)\n",
    "axs['A'].plot(ds2.time-t_offset, ds2.fullModel[0], '-', c='r', lw=1, label='Full Fitted Model', zorder=np.inf)\n",
    "\n",
    "axs['B'].errorbar(ds2.time-t_offset, ds2.cleanedFlux[0], ds2.rawFluxErr[0], fmt='.', c='k', alpha=0.1)\n",
    "axs['B'].plot(ds2.time-t_offset, ds2.astroModel[0], '-', c='r', lw=1, label='Fitted Eclipse Model', zorder=np.inf)\n",
    "\n",
    "axs['C'].errorbar(ds2.time-t_offset, (ds2.rawFlux[0]-ds2.fullModel[0])*1e6, ds2.rawFluxErr[0]*1e6, fmt='.', c='k', alpha=0.1)\n",
    "axs['C'].axhline(0, c='r', lw=1, zorder=np.inf)\n",
    "\n",
    "axs['A'].set_title(f'{PLANET} Fiducial Light Curve Fit')\n",
    "axs['A'].set_ylabel(\"Raw Flux\")\n",
    "axs['B'].set_ylabel(\"Cleaned Flux\")\n",
    "axs['C'].set_ylabel(\"Residuals (ppm)\")\n",
    "axs['C'].set_xlabel(f\"Time (BJD_TDB - {t_offset})\")\n",
    "axs['A'].legend(loc=1)\n",
    "axs['B'].legend(loc=1)\n",
    "\n",
    "fig.align_ylabels([axs['A'], axs['B'], axs['C']])\n",
    "\n",
    "plt.savefig(os.path.join(outputDirectory, 'Figure2.png'), dpi=300, bbox_inches='tight')\n",
    "plt.show()"
   ]
  },
  {
   "cell_type": "code",
   "execution_count": null,
   "id": "1550333f-01f9-4466-9112-90a229b8e29c",
   "metadata": {},
   "outputs": [],
   "source": [
    "t_offset = int(np.floor(np.nanmin(ds2.time.values)))\n",
    "\n",
    "fig, axs = plt.subplot_mosaic('A;B;C;D;E', figsize=(10*0.8,7.5*0.8), sharex=True, gridspec_kw={'hspace':0.1})\n",
    "\n",
    "for axname, var in zip(list(axs), [ds2.rawFlux,ds2.centroid_x,ds2.centroid_y,ds2.centroid_sx,ds2.centroid_sy]):\n",
    "    data = np.ma.masked_where(~np.isfinite(var[0]) + ~np.isfinite(ds2.rawFlux[0]), var[0])\n",
    "    # Mask ≥40-sigma outliers for a cleaner figure\n",
    "    data = sigma_clip(data, sigma=40)\n",
    "    axs[axname].plot(ds2.time-t_offset, data, '.', c='k', ms=1)\n",
    "\n",
    "axs['A'].set_title(f'{PLANET} Raw Measurements')\n",
    "axs['A'].set_ylabel(\"Flux\")\n",
    "axs['B'].set_ylabel(\"$x$\")\n",
    "axs['C'].set_ylabel(\"$y$\")\n",
    "axs['D'].set_ylabel(\"$x$ Width\")\n",
    "axs['E'].set_ylabel(\"$y$ Width\")\n",
    "axs['E'].set_xlabel(f\"Time (BJD_TDB - {t_offset})\")\n",
    "\n",
    "fig.align_ylabels([axs['A'], axs['B'], axs['C'], axs['D'], axs['E']])\n",
    "\n",
    "plt.savefig(os.path.join(outputDirectory, 'Figure1.png'), dpi=300, bbox_inches='tight')\n",
    "plt.show()"
   ]
  },
  {
   "cell_type": "code",
   "execution_count": null,
   "id": "07b2da00-d267-4675-a0b4-872787924ff7",
   "metadata": {},
   "outputs": [],
   "source": []
  },
  {
   "cell_type": "code",
   "execution_count": null,
   "id": "b3135bad-773b-44df-b3dd-bbb458c6ddcc",
   "metadata": {},
   "outputs": [],
   "source": []
  },
  {
   "cell_type": "code",
   "execution_count": null,
   "id": "69f2bf46-9b9b-425c-bc8d-2ac995b09946",
   "metadata": {},
   "outputs": [],
   "source": []
  },
  {
   "cell_type": "code",
   "execution_count": null,
   "id": "73aaaaa4-8884-4e29-871e-00a0e2118ddb",
   "metadata": {},
   "outputs": [],
   "source": []
  },
  {
   "cell_type": "code",
   "execution_count": null,
   "id": "760c9727-3cb8-4022-9eca-638619f18faf",
   "metadata": {},
   "outputs": [],
   "source": []
  }
 ],
 "metadata": {
  "kernelspec": {
   "display_name": "Python [conda env:eureka_bfe]",
   "language": "python",
   "name": "conda-env-eureka_bfe-py"
  },
  "language_info": {
   "codemirror_mode": {
    "name": "ipython",
    "version": 3
   },
   "file_extension": ".py",
   "mimetype": "text/x-python",
   "name": "python",
   "nbconvert_exporter": "python",
   "pygments_lexer": "ipython3",
   "version": "3.13.5"
  },
  "widgets": {
   "application/vnd.jupyter.widget-state+json": {
    "state": {},
    "version_major": 2,
    "version_minor": 0
   }
  }
 },
 "nbformat": 4,
 "nbformat_minor": 5
}
